{
 "cells": [
  {
   "cell_type": "markdown",
   "metadata": {},
   "source": [
    "# Week 1: Data Preprocessing and Augmentation\n",
    "\n",
    "**Objective:** To prepare the raw image data for model training.\n",
    "\n",
    "This notebook covers:\n",
    "- Splitting the raw dataset into training, validation, and test sets.\n",
    "- Creating TensorFlow `Dataset` objects for efficient data loading.\n",
    "- Implementing and visualizing data augmentation techniques."
   ]
  },
  {
   "cell_type": "markdown",
   "metadata": {},
   "source": [
    "## 2.1 - Setup\n",
    "\n",
    "Import necessary libraries and helper functions."
   ]
  },
  {
   "cell_type": "code",
   "execution_count": null,
   "metadata": {},
   "outputs": [],
   "source": [
    "import os\n",
    "import sys\n",
    "import numpy as np\n",
    "import tensorflow as tf\n",
    "import matplotlib.pyplot as plt\n",
    "\n",
    "# Add project root to path\n",
    "sys.path.append(os.path.abspath(os.path.join(os.path.dirname(\"__file__\"), \"..\", \"..\")))\n",
    "from config import *\n",
    "from Week1_Data_and_Baseline.utils.data_utils import split_data, create_data_generators\n",
    "\n",
    "plt.style.use(PLOT_STYLE)"
   ]
  },
  {
   "cell_type": "markdown",
   "metadata": {},
   "source": [
    "## 2.2 - Data Splitting\n",
    "\n",
    "First, we split the raw data into three separate sets: training, validation, and test. This is a crucial step to ensure that our model is evaluated on unseen data."
   ]
  },
  {
   "cell_type": "code",
   "execution_count": null,
   "metadata": {},
   "outputs": [],
   "source": [
    "# Set random seed for reproducibility\n",
    "tf.random.set_seed(RANDOM_SEED)\n",
    "np.random.seed(RANDOM_SEED)\n",
    "\n",
    "# Create directories if they don\'t exist\n",
    "create_directories()\n",
    "\n",
    "# Split the data\n",
    "split_data(RAW_DATA_DIR, PROCESSED_DATA_DIR, TRAIN_RATIO, VAL_RATIO, TEST_RATIO, RANDOM_SEED)"
   ]
  },
  {
   "cell_type": "markdown",
   "metadata": {},
   "source": [
    "## 2.3 - Create Data Generators\n",
    "\n",
    "Now, we create TensorFlow `Dataset` objects (data generators) that will feed data to the model during training. These generators handle image loading, resizing, batching, and augmentation on the fly."
   ]
  },
  {
   "cell_type": "code",
   "execution_count": null,
   "metadata": {},
   "outputs": [],
   "source": [
    "train_ds, val_ds = create_data_generators(TRAIN_DIR, VAL_DIR, IMG_SIZE, BATCH_SIZE, RANDOM_SEED)\n",
    "\n",
    "print(f\"Training dataset: {train_ds}\")\n",
    "print(f\"Validation dataset: {val_ds}\")"
   ]
  },
  {
   "cell_type": "markdown",
   "metadata": {},
   "source": [
    "## 2.4 - Visualize Data Augmentation\n",
    "\n",
    "Data augmentation is a powerful technique to increase the diversity of the training set and reduce overfitting. Let\'s visualize the effect of our augmentation pipeline on a sample image."
   ]
  },
  {
   "cell_type": "code",
   "execution_count": null,
   "metadata": {},
   "outputs": [],
   "source": [
    "# Get one batch of images from the training set\n",
    "for images, labels in train_ds.take(1):\n",
    "    plt.figure(figsize=(12, 12))\n",
    "    first_image = images[0]\n",
    "    \n",
    "    for i in range(9):\n",
    "        ax = plt.subplot(3, 3, i + 1)\n",
    "        augmented_image = train_ds.unbatch().map(lambda x, y: x).take(1).get_single_element()\n",
    "        plt.imshow(augmented_image)\n",
    "        plt.title(f\"Augmented Image {i+1}\")\n",
    "        plt.axis(\"off\")\n",
    "    plt.suptitle(\"Data Augmentation Examples\")\n",
    "    plt.show()"
   ]
  },
  {
   "cell_type": "markdown",
   "metadata": {},
   "source": [
    "**Conclusion:** The data is now fully prepared for training. We have split the dataset, created efficient data pipelines, and implemented a robust data augmentation strategy. In the next notebook, we will build and train our baseline CNN model."
   ]
  }
 ],
 "metadata": {
  "kernelspec": {
   "display_name": "Python 3",
   "language": "python",
   "name": "python3"
  },
  "language_info": {
   "codemirror_mode": {
    "name": "ipython",
    "version": 3
   },
   "file_extension": ".py",
   "mimetype": "text/x-python",
   "name": "python",
   "nbconvert_exporter": "python",
   "pygments_lexer": "ipython3",
   "version": "3.11.0"
  }
 },
 "nbformat": 4,
 "nbformat_minor": 4
}
