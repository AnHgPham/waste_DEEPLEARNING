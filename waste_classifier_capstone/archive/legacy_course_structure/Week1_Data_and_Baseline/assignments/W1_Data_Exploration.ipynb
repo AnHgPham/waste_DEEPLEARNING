{
 "cells": [
  {
   "cell_type": "markdown",
   "metadata": {},
   "source": [
    "# Week 1: Data Exploration and Visualization\n",
    "\n",
    "**Objective:** To understand the structure, content, and distribution of the waste classification dataset.\n",
    "\n",
    "This notebook covers:\n",
    "- Loading the dataset from disk.\n",
    "- Visualizing sample images from each class.\n",
    "- Analyzing the class distribution to check for imbalances."
   ]
  },
  {
   "cell_type": "markdown",
   "metadata": {},
   "source": [
    "## 1.1 - Setup\n",
    "\n",
    "Import necessary libraries and configure paths."
   ]
  },
  {
   "cell_type": "code",
   "execution_count": null,
   "metadata": {},
   "outputs": [],
   "source": [
    "import os\n",
    "import sys\n",
    "import numpy as np\n",
    "import matplotlib.pyplot as plt\n",
    "import seaborn as sns\n",
    "from PIL import Image\n",
    "\n",
    "# Add project root to path\n",
    "sys.path.append(os.path.abspath(os.path.join(os.path.dirname('__file__'), '..', '..')))\n",
    "from config import *\n",
    "\n",
    "plt.style.use(PLOT_STYLE)"
   ]
  },
  {
   "cell_type": "markdown",
   "metadata": {},
   "source": [
    "## 1.2 - Dataset Overview\n",
    "\n",
    "Let's examine the raw dataset directory to understand its structure."
   ]
  },
  {
   "cell_type": "code",
   "execution_count": null,
   "metadata": {},
   "outputs": [],
   "source": [
    "def get_dataset_stats(data_dir):\n",
    "    \"\"\"\n",
    "    Calculates and returns statistics about the dataset.\n",
    "\n",
    "    Arguments:\n",
    "    data_dir -- Path, directory of the raw dataset.\n",
    "\n",
    "    Returns:\n",
    "    stats -- dict, a dictionary containing class names and image counts.\n",
    "    \"\"\"\n",
    "    stats = {}\n",
    "    for class_name in CLASS_NAMES:\n",
    "        class_dir = data_dir / class_name\n",
    "        stats[class_name] = len(list(class_dir.glob('*.jpg')))\n",
    "    return stats\n",
    "\n",
    "dataset_stats = get_dataset_stats(RAW_DATA_DIR)\n",
    "total_images = sum(dataset_stats.values())\n",
    "\n",
    "print(f\"Total number of classes: {len(CLASS_NAMES)}\")\n",
    "print(f\"Total number of images: {total_images}\")"
   ]
  },
  {
   "cell_type": "markdown",
   "metadata": {},
   "source": [
    "## 1.3 - Class Distribution\n",
    "\n",
    "Visualizing the class distribution helps identify any potential class imbalance, which can affect model training."
   ]
  },
  {
   "cell_type": "code",
   "execution_count": null,
   "metadata": {},
   "outputs": [],
   "source": [
    "plt.figure(figsize=(12, 6))\n",
    "sns.barplot(x=list(dataset_stats.keys()), y=list(dataset_stats.values()))\n",
    "plt.title('Class Distribution of Waste Images')\n",
    "plt.xlabel('Waste Category')\n",
    "plt.ylabel('Number of Images')\n",
    "plt.xticks(rotation=45)\n",
    "plt.tight_layout()\n",
    "plt.show()"
   ]
  },
  {
   "cell_type": "markdown",
   "metadata": {},
   "source": [
    "**Observation:** The dataset is relatively balanced, with no single class dominating. This is a good starting point for training a robust model."
   ]
  },
  {
   "cell_t
