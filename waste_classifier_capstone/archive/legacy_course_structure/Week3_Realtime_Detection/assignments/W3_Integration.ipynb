{
 "cells": [
  {
   "cell_type": "markdown",
   "metadata": {},
   "source": [
    "# Week 3: Integrating YOLOv8 with a Custom Classifier\n",
    "\n",
    "**Objective:** To build a real-time waste detection and classification system by combining YOLOv8 and our trained MobileNetV2 classifier.\n",
    "\n",
    "This notebook covers:\n",
    "- Loading both the YOLOv8 object detector and the waste classifier.\n",
    "- Creating a pipeline: Detect -> Crop -> Classify.\n",
    "- Running the integrated system on a live webcam feed."
   ]
  },
  {
   "cell_type": "code",
   "execution_count": null,
   "metadata": {},
   "outputs": [],
   "source": [
    "import cv2\n",
    "import os\n",
    "import sys\n",
    "from tensorflow import keras\n",
    "\n",
    "sys.path.append(os.path.abspath(os.path.join(os.path.dirname(\"__file__\"), \"..\", \"..\")))\n",
    "from config import *\n",
    "from Week3_Realtime_Detection.utils.detection_utils import load_yolo_model, detect_objects, crop_objects\n",
    "from Week3_Realtime_Detection.utils.realtime_utils import classify_images, draw_results"
   ]
  },
  {
   "cell_type": "markdown",
   "metadata": {},
   "source": [
    "## 2.1 - Load Models"
   ]
  },
  {
   "cell_type": "code",
   "execution_count": null,
   "metadata": {},
   "outputs": [],
   "source": [
    "# Load the YOLOv8 object detector\n",
    "yolo_model = load_yolo_model()\n",
    "\n",
    "# Load our trained waste classifier\n",
    "classifier_model = keras.models.load_model(get_model_path(\"mobilenetv2\", \"final\"))\n",
    "print(\"✅ Waste classifier loaded.\")"
   ]
  },
  {
   "cell_type": "markdown",
   "metadata": {},
   "source": [
    "## 2.2 - Real-time Detection Loop"
   ]
  },
  {
   "cell_type": "code",
   "execution_count": null,
   "metadata": {},
   "outputs": [],
   "source": [
    "cap = cv2.VideoCapture(CAMERA_INDEX)\n",
    "cap.set(cv2.CAP_PROP_FRAME_WIDTH, CAMERA_WIDTH)\n",
    "cap.set(cv2.CAP_PROP_FRAME_HEIGHT, CAMERA_HEIGHT)\n",
    "\n",
    "while True:\n",
    "    ret, frame = cap.read()\n",
    "    if not ret:\n",
    "        break\n",
    "\n",
    "    # 1. Detect objects with YOLOv8\n",
    "    boxes = detect_objects(yolo_model, frame)\n",
    "\n",
    "    if len(boxes) > 0:\n",
    "        # 2. Crop the detected objects\n",
    "        cropped_objects = crop_objects(frame, boxes)\n",
    "\n",
    "        # 3. Classify the cropped objects\n",
    "        predictions = classify_images(classifier_model, cropped_objects)\n",
    "\n",
    "        # 4. Draw the results on the frame\n",
    "        frame = draw_results(frame, boxes, predictions)\n",
    "\n",
    "    # Display the frame\n",
    "    cv2.imshow(\"Waste Classifier - Real-time\", frame)\n",
    "\n",
    "    # Exit on \'q\' key press\n",
    "    if cv2.waitKey(1) & 0xFF == ord(\'q\'):\n",
    "        break\n",
    "\n",
    "cap.release()\n",
    "cv2.destroyAllWindows()"
   ]
  }
 ],
 "metadata": {
  "kernelspec": {
   "display_name": "Python 3",
   "language": "python",
   "name": "python3"
  },
  "language_info": {
   "codemirror_mode": {
    "name": "ipython",
    "version": 3
   },
   "file_extension": ".py",
   "mimetype": "text/x-python",
   "name": "python",
   "nbconvert_exporter": "python",
   "pygments_lexer": "ipython3",
   "version": "3.11.0"
  }
 },
 "nbformat": 4,
 "nbformat_minor": 4
}
