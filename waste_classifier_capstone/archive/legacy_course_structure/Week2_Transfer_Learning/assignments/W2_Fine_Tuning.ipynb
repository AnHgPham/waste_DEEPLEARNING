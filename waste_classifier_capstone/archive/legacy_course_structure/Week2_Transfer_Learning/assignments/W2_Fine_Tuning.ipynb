{
 "cells": [
  {
   "cell_type": "markdown",
   "metadata": {},
   "source": [
    "# Week 2: Fine-Tuning the Pretrained Model\n",
    "\n",
    "**Objective:** To improve performance by unfreezing parts of the base model and training them with a low learning rate.\n",
    "\n",
    "This notebook covers:\n",
    "- Loading the model from the feature extraction phase.\n",
    "- Unfreezing the top layers of the MobileNetV2 base.\n",
    "- Continuing training (fine-tuning) with a very low learning rate."
   ]
  },
  {
   "cell_type": "code",
   "execution_count": null,
   "metadata": {},
   "outputs": [],
   "source": [
    "import os\n",
    "import sys\n",
    "import tensorflow as tf\n",
    "from tensorflow import keras\n",
    "\n",
    "sys.path.append(os.path.abspath(os.path.join(os.path.dirname(\"__file__\"), \"..\", \"..\")))\n",
    "from config import *\n",
    "from Week1_Data_and_Baseline.utils.data_utils import create_data_generators\n",
    "from Week2_Transfer_Learning.utils.model_utils import unfreeze_layers"
   ]
  },
  {
   "cell_type": "code",
   "execution_count": null,
   "metadata": {},
   "outputs": [],
   "source": [
    "train_ds, val_ds = create_data_generators(TRAIN_DIR, VAL_DIR, IMG_SIZE, BATCH_SIZE, RANDOM_SEED)"
   ]
  },
  {
   "cell_type": "code",
   "execution_count": null,
   "metadata": {},
   "outputs": [],
   "source": [
    "# Load the model from Phase 1\n",
    "fine_tuning_model = keras.models.load_model(get_model_path(\"mobilenetv2\", \"phase1\"))\n",
    "\n",
    "# Unfreeze some layers\n",
    "fine_tuning_model = unfreeze_layers(fine_tuning_model, num_layers_to_unfreeze=30)"
   ]
  },
  {
   "cell_type": "code",
   "execution_count": null,
   "metadata": {},
   "outputs": [],
   "source": [
    "fine_tuning_model.compile(\n",
    "    optimizer=keras.optimizers.Adam(learning_rate=LEARNING_RATE_TRANSFER_PHASE2), # Lower LR!\n",
    "    loss=LOSS_FUNCTION,\n",
    "    metrics=METRICS\n",
    ")\n",
    "\n",
    "history_phase2 = fine_tuning_model.fit(\n",
    "    train_ds,\n",
    "    epochs=EPOCHS_TRANSFER_PHASE1 + EPOCHS_TRANSFER_PHASE2, # Total epochs\n",
    "    initial_epoch=EPOCHS_TRANSFER_PHASE1, # Start from where we left off\n",
    "    validation_data=val_ds,\n",
    "    callbacks=[keras.callbacks.ModelCheckpoint(get_model_path(\"mobilenetv2\", \"final\"), save_best_only=True)]\n",
    ")"
   ]
  }
 ],
 "metadata": {
  "kernelspec": {
   "display_name": "Python 3",
   "language": "python",
   "name": "python3"
  },
  "language_info": {
   "codemirror_mode": {
    "name": "ipython",
    "version": 3
   },
   "file_extension": ".py",
   "mimetype": "text/x-python",
   "name": "python",
   "nbconvert_exporter": "python",
   "pygments_lexer": "ipython3",
   "version": "3.11.0"
  }
 },
 "nbformat": 4,
 "nbformat_minor": 4
}
