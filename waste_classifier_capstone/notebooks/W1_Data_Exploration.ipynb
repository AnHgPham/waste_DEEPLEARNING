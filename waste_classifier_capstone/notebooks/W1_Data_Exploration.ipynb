{
 "cells": [
  {
   "cell_type": "markdown",
   "metadata": {},
   "source": [
    "# Week 1: Data Exploration and Visualization\n",
    "\n",
    "**Objective:** To understand the structure, content, and distribution of the waste classification dataset.\n",
    "\n",
    "This notebook covers:\n",
    "- Loading the dataset from disk\n",
    "- Visualizing sample images from each class\n",
    "- Analyzing the class distribution to check for imbalances\n",
    "- Understanding image dimensions and characteristics"
   ]
  },
  {
   "cell_type": "markdown",
   "metadata": {},
   "source": [
    "## 1.1 - Setup\n",
    "\n",
    "Import necessary libraries and configure paths."
   ]
  },
  {
   "cell_type": "code",
   "execution_count": null,
   "metadata": {},
   "outputs": [],
   "source": [
    "import os\n",
    "import sys\n",
    "import numpy as np\n",
    "import matplotlib.pyplot as plt\n",
    "import seaborn as sns\n",
    "from PIL import Image\n",
    "\n",
    "# Add project root to path\n",
    "sys.path.append(os.path.dirname(os.getcwd()))\n",
    "from src.config import *\n",
    "\n",
    "plt.style.use(PLOT_STYLE)"
   ]
  },
  {
   "cell_type": "markdown",
   "metadata": {},
   "source": [
    "## 1.2 - Dataset Overview\n",
    "\n",
    "Let's examine the raw dataset directory to understand its structure."
   ]
  },
  {
   "cell_type": "code",
   "execution_count": null,
   "metadata": {},
   "outputs": [],
   "source": [
    "def get_dataset_stats(data_dir):\n",
    "    \"\"\"\n",
    "    Calculates and returns statistics about the dataset.\n",
    "    \n",
    "    Arguments:\n",
    "    data_dir -- Path, directory of the raw dataset.\n",
    "    \n",
    "    Returns:\n",
    "    stats -- dict, a dictionary containing class names and image counts.\n",
    "    \"\"\"\n",
    "    stats = {}\n",
    "    for class_name in CLASS_NAMES:\n",
    "        class_dir = data_dir / class_name\n",
    "        stats[class_name] = len(list(class_dir.glob('*.jpg')))\n",
    "    return stats\n",
    "\n",
    "dataset_stats = get_dataset_stats(RAW_DATA_DIR)\n",
    "total_images = sum(dataset_stats.values())\n",
    "\n",
    "print(f\"Total number of classes: {len(CLASS_NAMES)}\")\n",
    "print(f\"Total number of images: {total_images}\")\n",
    "print(\"\\nImages per class:\")\n",
    "for class_name, count in dataset_stats.items():\n",
    "    print(f\"  {class_name:12s}: {count:5d} images\")"
   ]
  },
  {
   "cell_type": "markdown",
   "metadata": {},
   "source": [
    "## 1.3 - Class Distribution\n",
    "\n",
    "Visualizing the class distribution helps identify any potential class imbalance, which can affect model training."
   ]
  },
  {
   "cell_type": "code",
   "execution_count": null,
   "metadata": {},
   "outputs": [],
   "source": [
    "plt.figure(figsize=(14, 6))\n",
    "colors = sns.color_palette('husl', len(CLASS_NAMES))\n",
    "bars = plt.bar(list(dataset_stats.keys()), list(dataset_stats.values()), color=colors)\n",
    "plt.title('Class Distribution of Waste Images', fontsize=16, fontweight='bold', pad=20)\n",
    "plt.xlabel('Waste Category', fontsize=12)\n",
    "plt.ylabel('Number of Images', fontsize=12)\n",
    "plt.xticks(rotation=45, ha='right')\n",
    "plt.grid(axis='y', alpha=0.3)\n",
    "\n",
    "# Add value labels on bars\n",
    "for bar in bars:\n",
    "    height = bar.get_height()\n",
    "    plt.text(bar.get_x() + bar.get_width()/2., height,\n",
    "             f'{int(height)}', ha='center', va='bottom', fontsize=10)\n",
    "\n",
    "plt.tight_layout()\n",
    "plt.show()"
   ]
  },
  {
   "cell_type": "markdown",
   "metadata": {},
   "source": [
    "**Observation:** The dataset shows varying class sizes, with some classes having significantly more samples than others. This is important to note for potential data balancing strategies during training."
   ]
  },
  {
   "cell_type": "markdown",
   "metadata": {},
   "source": [
    "## 1.4 - Sample Images Visualization\n",
    "\n",
    "Let's visualize sample images from each waste category to understand what each class looks like."
   ]
  },
  {
   "cell_type": "code",
   "execution_count": null,
   "metadata": {},
   "outputs": [],
   "source": [
    "def display_sample_images(data_dir, class_names, samples_per_class=3):\n",
    "    \"\"\"\n",
    "    Displays sample images from each class.\n",
    "    \n",
    "    Arguments:\n",
    "    data_dir -- Path, directory of the raw dataset.\n",
    "    class_names -- list, list of class names.\n",
    "    samples_per_class -- int, number of samples to display per class.\n",
    "    \"\"\"\n",
    "    fig, axes = plt.subplots(len(class_names), samples_per_class, \n",
    "                             figsize=(15, len(class_names) * 2.5))\n",
    "    \n",
    "    for i, class_name in enumerate(class_names):\n",
    "        class_dir = data_dir / class_name\n",
    "        image_files = list(class_dir.glob('*.jpg'))[:samples_per_class]\n",
    "        \n",
    "        for j, img_path in enumerate(image_files):\n",
    "            img = Image.open(img_path)\n",
    "            axes[i, j].imshow(img)\n",
    "            axes[i, j].axis('off')\n",
    "            if j == 0:\n",
    "                axes[i, j].set_title(f\"{class_name.upper()}\", \n",
    "                                     fontsize=12, fontweight='bold', loc='left')\n",
    "    \n",
    "    plt.suptitle('Sample Images from Each Class', fontsize=16, fontweight='bold', y=0.995)\n",
    "    plt.tight_layout()\n",
    "    plt.show()\n",
    "\n",
    "display_sample_images(RAW_DATA_DIR, CLASS_NAMES, samples_per_class=3)"
   ]
  },
  {
   "cell_type": "markdown",
   "metadata": {},
   "source": [
    "## 1.5 - Image Dimensions Analysis\n",
    "\n",
    "Understanding the dimensions of images in the dataset helps determine appropriate preprocessing steps."
   ]
  },
  {
   "cell_type": "code",
   "execution_count": null,
   "metadata": {},
   "outputs": [],
   "source": [
    "def analyze_image_dimensions(data_dir, class_names, sample_size=100):\n",
    "    \"\"\"\n",
    "    Analyzes the dimensions of images in the dataset.\n",
    "    \n",
    "    Arguments:\n",
    "    data_dir -- Path, directory of the raw dataset.\n",
    "    class_names -- list, list of class names.\n",
    "    sample_size -- int, number of images to sample per class.\n",
    "    \"\"\"\n",
    "    widths = []\n",
    "    heights = []\n",
    "    \n",
    "    for class_name in class_names:\n",
    "        class_dir = data_dir / class_name\n",
    "        image_files = list(class_dir.glob('*.jpg'))[:sample_size]\n",
    "        \n",
    "        for img_path in image_files:\n",
    "            img = Image.open(img_path)\n",
    "            widths.append(img.width)\n",
    "            heights.append(img.height)\n",
    "    \n",
    "    print(f\"Analyzed {len(widths)} images\")\n",
    "    print(f\"\\nWidth statistics:\")\n",
    "    print(f\"  Min: {min(widths)} | Max: {max(widths)} | Mean: {np.mean(widths):.1f}\")\n",
    "    print(f\"\\nHeight statistics:\")\n",
    "    print(f\"  Min: {min(heights)} | Max: {max(heights)} | Mean: {np.mean(heights):.1f}\")\n",
    "    \n",
    "    # Visualize\n",
    "    fig, axes = plt.subplots(1, 2, figsize=(14, 5))\n",
    "    \n",
    "    axes[0].hist(widths, bins=30, edgecolor='black', color='steelblue', alpha=0.7)\n",
    "    axes[0].set_title('Distribution of Image Widths', fontsize=14, fontweight='bold')\n",
    "    axes[0].set_xlabel('Width (pixels)')\n",
    "    axes[0].set_ylabel('Frequency')\n",
    "    axes[0].grid(alpha=0.3)\n",
    "    \n",
    "    axes[1].hist(heights, bins=30, edgecolor='black', color='coral', alpha=0.7)\n",
    "    axes[1].set_title('Distribution of Image Heights', fontsize=14, fontweight='bold')\n",
    "    axes[1].set_xlabel('Height (pixels)')\n",
    "    axes[1].set_ylabel('Frequency')\n",
    "    axes[1].grid(alpha=0.3)\n",
    "    \n",
    "    plt.tight_layout()\n",
    "    plt.show()\n",
    "\n",
    "analyze_image_dimensions(RAW_DATA_DIR, CLASS_NAMES, sample_size=100)"
   ]
  },
  {
   "cell_type": "markdown",
   "metadata": {},
   "source": [
    "## 1.6 - Key Findings\n",
    "\n",
    "**Summary of Data Exploration:**\n",
    "\n",
    "1. **Dataset Structure**: The dataset is organized into subdirectories by waste category.\n",
    "2. **Class Balance**: The dataset shows varying class sizes - some classes like 'clothes' have significantly more samples.\n",
    "3. **Image Variety**: Each class contains diverse images with varying backgrounds and lighting conditions.\n",
    "4. **Image Dimensions**: Images have varying dimensions and will need to be resized to a consistent size for model training.\n",
    "\n",
    "**Next Steps:**\n",
    "- Preprocess the data (resize, normalize)\n",
    "- Split the dataset into training, validation, and test sets\n",
    "- Implement data augmentation strategies\n",
    "- Build and train a baseline CNN model"
   ]
  },
  {
   "cell_type": "markdown",
   "metadata": {},
   "source": [
    "## 1.7 - Save Visualizations (Optional)\n",
    "\n",
    "Save the class distribution plot for reporting purposes."
   ]
  },
  {
   "cell_type": "code",
   "execution_count": null,
   "metadata": {},
   "outputs": [],
   "source": [
    "# Create reports directory if it doesn't exist\n",
    "REPORTS_DIR.mkdir(parents=True, exist_ok=True)\n",
    "\n",
    "# Save class distribution plot\n",
    "plt.figure(figsize=(14, 6))\n",
    "colors = sns.color_palette('husl', len(CLASS_NAMES))\n",
    "bars = plt.bar(list(dataset_stats.keys()), list(dataset_stats.values()), color=colors)\n",
    "plt.title('Class Distribution of Waste Images', fontsize=16, fontweight='bold', pad=20)\n",
    "plt.xlabel('Waste Category', fontsize=12)\n",
    "plt.ylabel('Number of Images', fontsize=12)\n",
    "plt.xticks(rotation=45, ha='right')\n",
    "plt.grid(axis='y', alpha=0.3)\n",
    "\n",
    "# Add value labels on bars\n",
    "for bar in bars:\n",
    "    height = bar.get_height()\n",
    "    plt.text(bar.get_x() + bar.get_width()/2., height,\n",
    "             f'{int(height)}', ha='center', va='bottom', fontsize=10)\n",
    "\n",
    "plt.tight_layout()\n",
    "plt.savefig(REPORTS_DIR / 'class_distribution.png', dpi=300, bbox_inches='tight')\n",
    "print(f\"✅ Saved class distribution plot to: {REPORTS_DIR / 'class_distribution.png'}\")\n",
    "plt.show()"
   ]
  }
 ],
 "metadata": {
  "kernelspec": {
   "display_name": "Python 3",
   "language": "python",
   "name": "python3"
  },
  "language_info": {
   "codemirror_mode": {
    "name": "ipython",
    "version": 3
   },
   "file_extension": ".py",
   "mimetype": "text/x-python",
   "name": "python",
   "nbconvert_exporter": "python",
   "pygments_lexer": "ipython3",
   "version": "3.8.0"
  }
 },
 "nbformat": 4,
 "nbformat_minor": 4
}