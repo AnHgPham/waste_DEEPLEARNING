{
 "cells": [
  {
   "cell_type": "markdown",
   "metadata": {},
   "source": [
    "# Week 2: Transfer Learning with Feature Extraction\n",
    "\n",
    "**Objective:** To leverage a pretrained model (MobileNetV2) to build a powerful classifier without training the entire network from scratch.\n",
    "\n",
    "This notebook covers:\n",
    "- Loading a pretrained MobileNetV2 model.\n",
    "- Freezing the convolutional base to use it as a feature extractor.\n",
    "- Adding a new classification head on top.\n",
    "- Training only the new classifier head."
   ]
  },
  {
   "cell_type": "markdown",
   "metadata": {},
   "source": [
    "## 1.1 - Setup"
   ]
  },
  {
   "cell_type": "code",
   "execution_count": null,
   "metadata": {},
   "outputs": [],
   "source": [
    "import os\n",
    "import sys\n",
    "import tensorflow as tf\n",
    "from tensorflow import keras\n",
    "\n",
    "sys.path.append(os.path.abspath(os.path.join(os.path.dirname(\"__file__\"), \"..\", \"..\")))\n",
    "from config import *\n",
    "from Week1_Data_and_Baseline.utils.data_utils import create_data_generators\n",
    "from Week2_Transfer_Learning.utils.model_utils import build_transfer_model\n"
   ]
  },
  {
   "cell_type": "markdown",
   "metadata": {},
   "source": [
    "## 1.2 - Load Datasets"
   ]
  },
  {
   "cell_type": "code",
   "execution_count": null,
   "metadata": {},
   "outputs": [],
   "source": [
    "train_ds, val_ds = create_data_generators(TRAIN_DIR, VAL_DIR, IMG_SIZE, BATCH_SIZE, RANDOM_SEED)"
   ]
  },
  {
   "cell_type": "markdown",
   "metadata": {},
   "source": [
    "## 1.3 - Build the Feature Extraction Model"
   ]
  },
  {
   "cell_type": "code",
   "execution_count": null,
   "metadata": {},
   "outputs": [],
   "source": [
    "# Build the model with the base frozen\n",
    "feature_extraction_model = build_transfer_model(INPUT_SHAPE, NUM_CLASSES, freeze_base=True)\n",
    "feature_extraction_model.summary()"
   ]
  },
  {
   "cell_type": "markdown",
   "metadata": {},
   "source": [
    "## 1.4 - Compile and Train"
   ]
  },
  {
   "cell_type": "code",
   "execution_count": null,
   "metadata": {},
   "outputs": [],
   "source": [
    "feature_extraction_model.compile(\n",
    "    optimizer=keras.optimizers.Adam(learning_rate=LEARNING_RATE_TRANSFER_PHASE1),\n",
    "    loss=LOSS_FUNCTION,\n",
    "    metrics=METRICS\n",
    ")\n",
    "\n",
    "history_phase1 = feature_extraction_model.fit(\n",
    "    train_ds,\n",
    "    epochs=EPOCHS_TRANSFER_PHASE1,\n",
    "    validation_data=val_ds,\n",
    "    callbacks=[keras.callbacks.ModelCheckpoint(get_model_path(\"mobilenetv2\", \"phase1\"), save_best_only=True)]\n",
    ")"
   ]
  }
 ],
 "metadata": {
  "kernelspec": {
   "display_name": "Python 3",
   "language": "python",
   "name": "python3"
  },
  "language_info": {
   "codemirror_mode": {
    "name": "ipython",
    "version": 3
   },
   "file_extension": ".py",
   "mimetype": "text/x-python",
   "name": "python",
   "nbconvert_exporter": "python",
   "pygments_lexer": "ipython3",
   "version": "3.11.0"
  }
 },
 "nbformat": 4,
 "nbformat_minor": 4
}
